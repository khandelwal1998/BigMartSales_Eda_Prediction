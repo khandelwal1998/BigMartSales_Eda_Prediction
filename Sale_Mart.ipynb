{
  "nbformat": 4,
  "nbformat_minor": 0,
  "metadata": {
    "colab": {
      "name": "Sale_Mart.ipynb",
      "version": "0.3.2",
      "provenance": [],
      "collapsed_sections": [],
      "include_colab_link": true
    },
    "kernelspec": {
      "name": "python3",
      "display_name": "Python 3"
    }
  },
  "cells": [
    {
      "cell_type": "markdown",
      "metadata": {
        "id": "view-in-github",
        "colab_type": "text"
      },
      "source": [
        "[View in Colaboratory](https://colab.research.google.com/github/khandelwal1998/BigMartSales_Eda_Prediction/blob/master/Sale_Mart.ipynb)"
      ]
    },
    {
      "metadata": {
        "id": "spqnxsyRpIDa",
        "colab_type": "text"
      },
      "cell_type": "markdown",
      "source": [
        "<font color=\"#001a33\" size=15px>Big mart sales analysis</font>"
      ]
    },
    {
      "metadata": {
        "id": "XhOLZBx4pouS",
        "colab_type": "text"
      },
      "cell_type": "markdown",
      "source": [
        "<font face=\"Verdana\" size=3px>This project aims in analyzing the sales ofeach product in a particular shop.\n",
        "Machine learning play a vital role in these kind of predictions ad help a lot in increasing the business.\n",
        "<br>\n",
        "I am working on the big mart sales dataset which was collected by data scientists at BigMart have collected 2013 sales data for 1559 products across 10 stores in different cities.<br>\n",
        "\n",
        "To get a good result we will follow a step by step process which will include:</font>\n",
        "\n",
        "1. Getting the data\n",
        "3. Data preprocessing\n",
        "2. EDA on the data to get a good idea of each trends.\n",
        "4. Feature Engineering\n",
        "5. Training the model.\n",
        "6. Evaluation of the model."
      ]
    },
    {
      "metadata": {
        "id": "DOFbJRT4uCc1",
        "colab_type": "text"
      },
      "cell_type": "markdown",
      "source": [
        "## importing the libraries"
      ]
    },
    {
      "metadata": {
        "id": "5XhlmguhuBJp",
        "colab_type": "code",
        "colab": {}
      },
      "cell_type": "code",
      "source": [
        "import pandas as pd\n",
        "import numpy as np\n",
        "import matplotlib.pyplot as plt\n",
        "import seaborn as sns\n",
        "%matplotlib inline\n",
        "plt.rcParams['figure.figsize']=(12,10)\n",
        "import statistics"
      ],
      "execution_count": 0,
      "outputs": []
    },
    {
      "metadata": {
        "id": "zWR0x05xreRm",
        "colab_type": "text"
      },
      "cell_type": "markdown",
      "source": [
        "Lets import the dataset.\n",
        "\n",
        "The data set is available at [here](https://drive.google.com/file/d/1sukL3ljrJIhgW3NbsnKoayGd7Pfy-gqo/view)"
      ]
    },
    {
      "metadata": {
        "id": "cOudfzuovRu_",
        "colab_type": "code",
        "colab": {}
      },
      "cell_type": "code",
      "source": [
        "# from google.colab import files\n",
        "# files.upload()"
      ],
      "execution_count": 0,
      "outputs": []
    },
    {
      "metadata": {
        "id": "ZKwZsf2Qs4zU",
        "colab_type": "code",
        "colab": {}
      },
      "cell_type": "code",
      "source": [
        "data=pd.read_csv(\"Big_mart.csv\")"
      ],
      "execution_count": 0,
      "outputs": []
    },
    {
      "metadata": {
        "id": "Qd6OJkNgI1Ns",
        "colab_type": "code",
        "colab": {
          "base_uri": "https://localhost:8080/",
          "height": 238
        },
        "outputId": "71887654-73e5-4f3a-9bc6-f2965a8b64fd"
      },
      "cell_type": "code",
      "source": [
        "data.isnull().sum()"
      ],
      "execution_count": 185,
      "outputs": [
        {
          "output_type": "execute_result",
          "data": {
            "text/plain": [
              "Item_Identifier                 0\n",
              "Item_Weight                  1463\n",
              "Item_Fat_Content                0\n",
              "Item_Visibility                 0\n",
              "Item_Type                       0\n",
              "Item_MRP                        0\n",
              "Outlet_Identifier               0\n",
              "Outlet_Establishment_Year       0\n",
              "Outlet_Size                  2410\n",
              "Outlet_Location_Type            0\n",
              "Outlet_Type                     0\n",
              "Item_Outlet_Sales               0\n",
              "dtype: int64"
            ]
          },
          "metadata": {
            "tags": []
          },
          "execution_count": 185
        }
      ]
    },
    {
      "metadata": {
        "id": "th9_MkFUu-wG",
        "colab_type": "text"
      },
      "cell_type": "markdown",
      "source": [
        "Check out the basic details of the data."
      ]
    },
    {
      "metadata": {
        "id": "EfnYfjzsvuwu",
        "colab_type": "code",
        "colab": {
          "base_uri": "https://localhost:8080/",
          "height": 309
        },
        "outputId": "2696cb19-f38b-43bc-948d-8e17d8081600"
      },
      "cell_type": "code",
      "source": [
        "data.head()"
      ],
      "execution_count": 186,
      "outputs": [
        {
          "output_type": "execute_result",
          "data": {
            "text/html": [
              "<div>\n",
              "<style scoped>\n",
              "    .dataframe tbody tr th:only-of-type {\n",
              "        vertical-align: middle;\n",
              "    }\n",
              "\n",
              "    .dataframe tbody tr th {\n",
              "        vertical-align: top;\n",
              "    }\n",
              "\n",
              "    .dataframe thead th {\n",
              "        text-align: right;\n",
              "    }\n",
              "</style>\n",
              "<table border=\"1\" class=\"dataframe\">\n",
              "  <thead>\n",
              "    <tr style=\"text-align: right;\">\n",
              "      <th></th>\n",
              "      <th>Item_Identifier</th>\n",
              "      <th>Item_Weight</th>\n",
              "      <th>Item_Fat_Content</th>\n",
              "      <th>Item_Visibility</th>\n",
              "      <th>Item_Type</th>\n",
              "      <th>Item_MRP</th>\n",
              "      <th>Outlet_Identifier</th>\n",
              "      <th>Outlet_Establishment_Year</th>\n",
              "      <th>Outlet_Size</th>\n",
              "      <th>Outlet_Location_Type</th>\n",
              "      <th>Outlet_Type</th>\n",
              "      <th>Item_Outlet_Sales</th>\n",
              "    </tr>\n",
              "  </thead>\n",
              "  <tbody>\n",
              "    <tr>\n",
              "      <th>0</th>\n",
              "      <td>FDA15</td>\n",
              "      <td>9.30</td>\n",
              "      <td>Low Fat</td>\n",
              "      <td>0.016047</td>\n",
              "      <td>Dairy</td>\n",
              "      <td>249.8092</td>\n",
              "      <td>OUT049</td>\n",
              "      <td>1999</td>\n",
              "      <td>Medium</td>\n",
              "      <td>Tier 1</td>\n",
              "      <td>Supermarket Type1</td>\n",
              "      <td>3735.1380</td>\n",
              "    </tr>\n",
              "    <tr>\n",
              "      <th>1</th>\n",
              "      <td>DRC01</td>\n",
              "      <td>5.92</td>\n",
              "      <td>Regular</td>\n",
              "      <td>0.019278</td>\n",
              "      <td>Soft Drinks</td>\n",
              "      <td>48.2692</td>\n",
              "      <td>OUT018</td>\n",
              "      <td>2009</td>\n",
              "      <td>Medium</td>\n",
              "      <td>Tier 3</td>\n",
              "      <td>Supermarket Type2</td>\n",
              "      <td>443.4228</td>\n",
              "    </tr>\n",
              "    <tr>\n",
              "      <th>2</th>\n",
              "      <td>FDN15</td>\n",
              "      <td>17.50</td>\n",
              "      <td>Low Fat</td>\n",
              "      <td>0.016760</td>\n",
              "      <td>Meat</td>\n",
              "      <td>141.6180</td>\n",
              "      <td>OUT049</td>\n",
              "      <td>1999</td>\n",
              "      <td>Medium</td>\n",
              "      <td>Tier 1</td>\n",
              "      <td>Supermarket Type1</td>\n",
              "      <td>2097.2700</td>\n",
              "    </tr>\n",
              "    <tr>\n",
              "      <th>3</th>\n",
              "      <td>FDX07</td>\n",
              "      <td>19.20</td>\n",
              "      <td>Regular</td>\n",
              "      <td>0.000000</td>\n",
              "      <td>Fruits and Vegetables</td>\n",
              "      <td>182.0950</td>\n",
              "      <td>OUT010</td>\n",
              "      <td>1998</td>\n",
              "      <td>NaN</td>\n",
              "      <td>Tier 3</td>\n",
              "      <td>Grocery Store</td>\n",
              "      <td>732.3800</td>\n",
              "    </tr>\n",
              "    <tr>\n",
              "      <th>4</th>\n",
              "      <td>NCD19</td>\n",
              "      <td>8.93</td>\n",
              "      <td>Low Fat</td>\n",
              "      <td>0.000000</td>\n",
              "      <td>Household</td>\n",
              "      <td>53.8614</td>\n",
              "      <td>OUT013</td>\n",
              "      <td>1987</td>\n",
              "      <td>High</td>\n",
              "      <td>Tier 3</td>\n",
              "      <td>Supermarket Type1</td>\n",
              "      <td>994.7052</td>\n",
              "    </tr>\n",
              "  </tbody>\n",
              "</table>\n",
              "</div>"
            ],
            "text/plain": [
              "  Item_Identifier  Item_Weight Item_Fat_Content  Item_Visibility  \\\n",
              "0           FDA15         9.30          Low Fat         0.016047   \n",
              "1           DRC01         5.92          Regular         0.019278   \n",
              "2           FDN15        17.50          Low Fat         0.016760   \n",
              "3           FDX07        19.20          Regular         0.000000   \n",
              "4           NCD19         8.93          Low Fat         0.000000   \n",
              "\n",
              "               Item_Type  Item_MRP Outlet_Identifier  \\\n",
              "0                  Dairy  249.8092            OUT049   \n",
              "1            Soft Drinks   48.2692            OUT018   \n",
              "2                   Meat  141.6180            OUT049   \n",
              "3  Fruits and Vegetables  182.0950            OUT010   \n",
              "4              Household   53.8614            OUT013   \n",
              "\n",
              "   Outlet_Establishment_Year Outlet_Size Outlet_Location_Type  \\\n",
              "0                       1999      Medium               Tier 1   \n",
              "1                       2009      Medium               Tier 3   \n",
              "2                       1999      Medium               Tier 1   \n",
              "3                       1998         NaN               Tier 3   \n",
              "4                       1987        High               Tier 3   \n",
              "\n",
              "         Outlet_Type  Item_Outlet_Sales  \n",
              "0  Supermarket Type1          3735.1380  \n",
              "1  Supermarket Type2           443.4228  \n",
              "2  Supermarket Type1          2097.2700  \n",
              "3      Grocery Store           732.3800  \n",
              "4  Supermarket Type1           994.7052  "
            ]
          },
          "metadata": {
            "tags": []
          },
          "execution_count": 186
        }
      ]
    },
    {
      "metadata": {
        "id": "0vad_dolvvz2",
        "colab_type": "text"
      },
      "cell_type": "markdown",
      "source": [
        "<font color=\"#001a33\" size=6px>Atribute Information</font>"
      ]
    },
    {
      "metadata": {
        "id": "E7okq62Nv5UZ",
        "colab_type": "text"
      },
      "cell_type": "markdown",
      "source": [
        "1. Item_Identifire: Unique id for each product.\n",
        "2. Item_weigth: Wight of the product.\n",
        "3. Item_fat_content: Whether the product has low fat content or normal.\n",
        "4. Item_Visibility:The  of total display area of all products in a store alloated to the particular       product.\n",
        "5. Item_Type: The category of each item.\n",
        "6. Item_MRP: Price of each item.\n",
        "7. Outlet_Identifier: Unique store id\n",
        "8. Outlet_establishment_year: Year the outlet was estd.\n",
        "9. Outlet_Size: Size of the outlet in terms of ground area.\n",
        "10. Outlet_Location_Type: The type of city where the outlet is located.\n",
        "11. Outlet_Type: Outlet is grocery store or supermarket\n",
        "12. Item_Outlet_Sales: Output variable\n"
      ]
    },
    {
      "metadata": {
        "id": "ky2RQf7UzNkC",
        "colab_type": "code",
        "colab": {
          "base_uri": "https://localhost:8080/",
          "height": 34
        },
        "outputId": "4ec09377-ec22-42d6-e3c6-8a450a68b8a1"
      },
      "cell_type": "code",
      "source": [
        "data.shape"
      ],
      "execution_count": 187,
      "outputs": [
        {
          "output_type": "execute_result",
          "data": {
            "text/plain": [
              "(8523, 12)"
            ]
          },
          "metadata": {
            "tags": []
          },
          "execution_count": 187
        }
      ]
    },
    {
      "metadata": {
        "id": "28HaLGnjyPbY",
        "colab_type": "code",
        "colab": {
          "base_uri": "https://localhost:8080/",
          "height": 427
        },
        "outputId": "01f4e595-8d11-48d7-8717-6d0f2a8e4392"
      },
      "cell_type": "code",
      "source": [
        "data.describe(include='all')"
      ],
      "execution_count": 188,
      "outputs": [
        {
          "output_type": "execute_result",
          "data": {
            "text/html": [
              "<div>\n",
              "<style scoped>\n",
              "    .dataframe tbody tr th:only-of-type {\n",
              "        vertical-align: middle;\n",
              "    }\n",
              "\n",
              "    .dataframe tbody tr th {\n",
              "        vertical-align: top;\n",
              "    }\n",
              "\n",
              "    .dataframe thead th {\n",
              "        text-align: right;\n",
              "    }\n",
              "</style>\n",
              "<table border=\"1\" class=\"dataframe\">\n",
              "  <thead>\n",
              "    <tr style=\"text-align: right;\">\n",
              "      <th></th>\n",
              "      <th>Item_Identifier</th>\n",
              "      <th>Item_Weight</th>\n",
              "      <th>Item_Fat_Content</th>\n",
              "      <th>Item_Visibility</th>\n",
              "      <th>Item_Type</th>\n",
              "      <th>Item_MRP</th>\n",
              "      <th>Outlet_Identifier</th>\n",
              "      <th>Outlet_Establishment_Year</th>\n",
              "      <th>Outlet_Size</th>\n",
              "      <th>Outlet_Location_Type</th>\n",
              "      <th>Outlet_Type</th>\n",
              "      <th>Item_Outlet_Sales</th>\n",
              "    </tr>\n",
              "  </thead>\n",
              "  <tbody>\n",
              "    <tr>\n",
              "      <th>count</th>\n",
              "      <td>8523</td>\n",
              "      <td>7060.000000</td>\n",
              "      <td>8523</td>\n",
              "      <td>8523.000000</td>\n",
              "      <td>8523</td>\n",
              "      <td>8523.000000</td>\n",
              "      <td>8523</td>\n",
              "      <td>8523.000000</td>\n",
              "      <td>6113</td>\n",
              "      <td>8523</td>\n",
              "      <td>8523</td>\n",
              "      <td>8523.000000</td>\n",
              "    </tr>\n",
              "    <tr>\n",
              "      <th>unique</th>\n",
              "      <td>1559</td>\n",
              "      <td>NaN</td>\n",
              "      <td>5</td>\n",
              "      <td>NaN</td>\n",
              "      <td>16</td>\n",
              "      <td>NaN</td>\n",
              "      <td>10</td>\n",
              "      <td>NaN</td>\n",
              "      <td>3</td>\n",
              "      <td>3</td>\n",
              "      <td>4</td>\n",
              "      <td>NaN</td>\n",
              "    </tr>\n",
              "    <tr>\n",
              "      <th>top</th>\n",
              "      <td>FDW13</td>\n",
              "      <td>NaN</td>\n",
              "      <td>Low Fat</td>\n",
              "      <td>NaN</td>\n",
              "      <td>Fruits and Vegetables</td>\n",
              "      <td>NaN</td>\n",
              "      <td>OUT027</td>\n",
              "      <td>NaN</td>\n",
              "      <td>Medium</td>\n",
              "      <td>Tier 3</td>\n",
              "      <td>Supermarket Type1</td>\n",
              "      <td>NaN</td>\n",
              "    </tr>\n",
              "    <tr>\n",
              "      <th>freq</th>\n",
              "      <td>10</td>\n",
              "      <td>NaN</td>\n",
              "      <td>5089</td>\n",
              "      <td>NaN</td>\n",
              "      <td>1232</td>\n",
              "      <td>NaN</td>\n",
              "      <td>935</td>\n",
              "      <td>NaN</td>\n",
              "      <td>2793</td>\n",
              "      <td>3350</td>\n",
              "      <td>5577</td>\n",
              "      <td>NaN</td>\n",
              "    </tr>\n",
              "    <tr>\n",
              "      <th>mean</th>\n",
              "      <td>NaN</td>\n",
              "      <td>12.857645</td>\n",
              "      <td>NaN</td>\n",
              "      <td>0.066132</td>\n",
              "      <td>NaN</td>\n",
              "      <td>140.992782</td>\n",
              "      <td>NaN</td>\n",
              "      <td>1997.831867</td>\n",
              "      <td>NaN</td>\n",
              "      <td>NaN</td>\n",
              "      <td>NaN</td>\n",
              "      <td>2181.288914</td>\n",
              "    </tr>\n",
              "    <tr>\n",
              "      <th>std</th>\n",
              "      <td>NaN</td>\n",
              "      <td>4.643456</td>\n",
              "      <td>NaN</td>\n",
              "      <td>0.051598</td>\n",
              "      <td>NaN</td>\n",
              "      <td>62.275067</td>\n",
              "      <td>NaN</td>\n",
              "      <td>8.371760</td>\n",
              "      <td>NaN</td>\n",
              "      <td>NaN</td>\n",
              "      <td>NaN</td>\n",
              "      <td>1706.499616</td>\n",
              "    </tr>\n",
              "    <tr>\n",
              "      <th>min</th>\n",
              "      <td>NaN</td>\n",
              "      <td>4.555000</td>\n",
              "      <td>NaN</td>\n",
              "      <td>0.000000</td>\n",
              "      <td>NaN</td>\n",
              "      <td>31.290000</td>\n",
              "      <td>NaN</td>\n",
              "      <td>1985.000000</td>\n",
              "      <td>NaN</td>\n",
              "      <td>NaN</td>\n",
              "      <td>NaN</td>\n",
              "      <td>33.290000</td>\n",
              "    </tr>\n",
              "    <tr>\n",
              "      <th>25%</th>\n",
              "      <td>NaN</td>\n",
              "      <td>8.773750</td>\n",
              "      <td>NaN</td>\n",
              "      <td>0.026989</td>\n",
              "      <td>NaN</td>\n",
              "      <td>93.826500</td>\n",
              "      <td>NaN</td>\n",
              "      <td>1987.000000</td>\n",
              "      <td>NaN</td>\n",
              "      <td>NaN</td>\n",
              "      <td>NaN</td>\n",
              "      <td>834.247400</td>\n",
              "    </tr>\n",
              "    <tr>\n",
              "      <th>50%</th>\n",
              "      <td>NaN</td>\n",
              "      <td>12.600000</td>\n",
              "      <td>NaN</td>\n",
              "      <td>0.053931</td>\n",
              "      <td>NaN</td>\n",
              "      <td>143.012800</td>\n",
              "      <td>NaN</td>\n",
              "      <td>1999.000000</td>\n",
              "      <td>NaN</td>\n",
              "      <td>NaN</td>\n",
              "      <td>NaN</td>\n",
              "      <td>1794.331000</td>\n",
              "    </tr>\n",
              "    <tr>\n",
              "      <th>75%</th>\n",
              "      <td>NaN</td>\n",
              "      <td>16.850000</td>\n",
              "      <td>NaN</td>\n",
              "      <td>0.094585</td>\n",
              "      <td>NaN</td>\n",
              "      <td>185.643700</td>\n",
              "      <td>NaN</td>\n",
              "      <td>2004.000000</td>\n",
              "      <td>NaN</td>\n",
              "      <td>NaN</td>\n",
              "      <td>NaN</td>\n",
              "      <td>3101.296400</td>\n",
              "    </tr>\n",
              "    <tr>\n",
              "      <th>max</th>\n",
              "      <td>NaN</td>\n",
              "      <td>21.350000</td>\n",
              "      <td>NaN</td>\n",
              "      <td>0.328391</td>\n",
              "      <td>NaN</td>\n",
              "      <td>266.888400</td>\n",
              "      <td>NaN</td>\n",
              "      <td>2009.000000</td>\n",
              "      <td>NaN</td>\n",
              "      <td>NaN</td>\n",
              "      <td>NaN</td>\n",
              "      <td>13086.964800</td>\n",
              "    </tr>\n",
              "  </tbody>\n",
              "</table>\n",
              "</div>"
            ],
            "text/plain": [
              "       Item_Identifier  Item_Weight Item_Fat_Content  Item_Visibility  \\\n",
              "count             8523  7060.000000             8523      8523.000000   \n",
              "unique            1559          NaN                5              NaN   \n",
              "top              FDW13          NaN          Low Fat              NaN   \n",
              "freq                10          NaN             5089              NaN   \n",
              "mean               NaN    12.857645              NaN         0.066132   \n",
              "std                NaN     4.643456              NaN         0.051598   \n",
              "min                NaN     4.555000              NaN         0.000000   \n",
              "25%                NaN     8.773750              NaN         0.026989   \n",
              "50%                NaN    12.600000              NaN         0.053931   \n",
              "75%                NaN    16.850000              NaN         0.094585   \n",
              "max                NaN    21.350000              NaN         0.328391   \n",
              "\n",
              "                    Item_Type     Item_MRP Outlet_Identifier  \\\n",
              "count                    8523  8523.000000              8523   \n",
              "unique                     16          NaN                10   \n",
              "top     Fruits and Vegetables          NaN            OUT027   \n",
              "freq                     1232          NaN               935   \n",
              "mean                      NaN   140.992782               NaN   \n",
              "std                       NaN    62.275067               NaN   \n",
              "min                       NaN    31.290000               NaN   \n",
              "25%                       NaN    93.826500               NaN   \n",
              "50%                       NaN   143.012800               NaN   \n",
              "75%                       NaN   185.643700               NaN   \n",
              "max                       NaN   266.888400               NaN   \n",
              "\n",
              "        Outlet_Establishment_Year Outlet_Size Outlet_Location_Type  \\\n",
              "count                 8523.000000        6113                 8523   \n",
              "unique                        NaN           3                    3   \n",
              "top                           NaN      Medium               Tier 3   \n",
              "freq                          NaN        2793                 3350   \n",
              "mean                  1997.831867         NaN                  NaN   \n",
              "std                      8.371760         NaN                  NaN   \n",
              "min                   1985.000000         NaN                  NaN   \n",
              "25%                   1987.000000         NaN                  NaN   \n",
              "50%                   1999.000000         NaN                  NaN   \n",
              "75%                   2004.000000         NaN                  NaN   \n",
              "max                   2009.000000         NaN                  NaN   \n",
              "\n",
              "              Outlet_Type  Item_Outlet_Sales  \n",
              "count                8523        8523.000000  \n",
              "unique                  4                NaN  \n",
              "top     Supermarket Type1                NaN  \n",
              "freq                 5577                NaN  \n",
              "mean                  NaN        2181.288914  \n",
              "std                   NaN        1706.499616  \n",
              "min                   NaN          33.290000  \n",
              "25%                   NaN         834.247400  \n",
              "50%                   NaN        1794.331000  \n",
              "75%                   NaN        3101.296400  \n",
              "max                   NaN       13086.964800  "
            ]
          },
          "metadata": {
            "tags": []
          },
          "execution_count": 188
        }
      ]
    },
    {
      "metadata": {
        "id": "Jz00YgPlAdqU",
        "colab_type": "text"
      },
      "cell_type": "markdown",
      "source": [
        "## Data Preprocessing"
      ]
    },
    {
      "metadata": {
        "id": "zl9lZg98zfIv",
        "colab_type": "code",
        "colab": {
          "base_uri": "https://localhost:8080/",
          "height": 34
        },
        "outputId": "75abdd51-d38f-4767-cb82-e35e7942c260"
      },
      "cell_type": "code",
      "source": [
        "len(data['Item_Identifier'].unique())"
      ],
      "execution_count": 189,
      "outputs": [
        {
          "output_type": "execute_result",
          "data": {
            "text/plain": [
              "1559"
            ]
          },
          "metadata": {
            "tags": []
          },
          "execution_count": 189
        }
      ]
    },
    {
      "metadata": {
        "id": "pdezNkB5zkCi",
        "colab_type": "text"
      },
      "cell_type": "markdown",
      "source": [
        "There are total of 1559 products available and total 10 outlets in all.\n"
      ]
    },
    {
      "metadata": {
        "id": "Zn_JUUlo0bKs",
        "colab_type": "text"
      },
      "cell_type": "markdown",
      "source": [
        "In the above description there are two things that are important to be noticed:\n",
        "\n",
        "First is regarding the fat. According to the data there are only Two categories: Low fat and regular, but there are 5 unique values so lets check them out."
      ]
    },
    {
      "metadata": {
        "id": "lLYOp-ns0iX6",
        "colab_type": "code",
        "colab": {
          "base_uri": "https://localhost:8080/",
          "height": 119
        },
        "outputId": "0c45dd5e-a8d3-4a0f-d022-cdb33f69f6f4"
      },
      "cell_type": "code",
      "source": [
        "data['Item_Fat_Content'].value_counts()"
      ],
      "execution_count": 190,
      "outputs": [
        {
          "output_type": "execute_result",
          "data": {
            "text/plain": [
              "Low Fat    5089\n",
              "Regular    2889\n",
              "LF          316\n",
              "reg         117\n",
              "low fat     112\n",
              "Name: Item_Fat_Content, dtype: int64"
            ]
          },
          "metadata": {
            "tags": []
          },
          "execution_count": 190
        }
      ]
    },
    {
      "metadata": {
        "id": "W9Nt1YHS4NR7",
        "colab_type": "text"
      },
      "cell_type": "markdown",
      "source": [
        "So the problem arised due to naming of variables so lets combine the similar ones."
      ]
    },
    {
      "metadata": {
        "id": "sZKUKtvu4hFk",
        "colab_type": "code",
        "colab": {}
      },
      "cell_type": "code",
      "source": [
        "data.loc[(data['Item_Fat_Content']==\"LF\") | (data['Item_Fat_Content']=='low fat') , 'Item_Fat_Content' ]=\"Low Fat\"\n",
        "data.loc[(data['Item_Fat_Content']==\"reg\")  , 'Item_Fat_Content' ]=\"Regular\""
      ],
      "execution_count": 0,
      "outputs": []
    },
    {
      "metadata": {
        "id": "bg_69X1w4yAI",
        "colab_type": "code",
        "colab": {
          "base_uri": "https://localhost:8080/",
          "height": 68
        },
        "outputId": "749ddb77-dd36-4980-8bc0-6b3a9a1fa24f"
      },
      "cell_type": "code",
      "source": [
        "data['Item_Fat_Content'].value_counts()"
      ],
      "execution_count": 192,
      "outputs": [
        {
          "output_type": "execute_result",
          "data": {
            "text/plain": [
              "Low Fat    5517\n",
              "Regular    3006\n",
              "Name: Item_Fat_Content, dtype: int64"
            ]
          },
          "metadata": {
            "tags": []
          },
          "execution_count": 192
        }
      ]
    },
    {
      "metadata": {
        "id": "zaJV1Ec15bmB",
        "colab_type": "text"
      },
      "cell_type": "markdown",
      "source": [
        "The other Problem is with the item visibility. Some of the item visibility is 0 but it cant be. so fill it with the mean of that column."
      ]
    },
    {
      "metadata": {
        "id": "sKlE2rPK-zTK",
        "colab_type": "code",
        "colab": {}
      },
      "cell_type": "code",
      "source": [
        "data.loc[data['Item_Visibility']==0,'Item_Visibility']=data['Item_Visibility'].mean()"
      ],
      "execution_count": 0,
      "outputs": []
    },
    {
      "metadata": {
        "id": "ZbdW3whqIpG5",
        "colab_type": "text"
      },
      "cell_type": "markdown",
      "source": [
        "## Removal of NULL values"
      ]
    },
    {
      "metadata": {
        "id": "MYTwbRBaIvFL",
        "colab_type": "code",
        "colab": {
          "base_uri": "https://localhost:8080/",
          "height": 238
        },
        "outputId": "e3d55f94-fb9f-4a7c-d3dc-57e4439d7de0"
      },
      "cell_type": "code",
      "source": [
        "data.isnull().sum()"
      ],
      "execution_count": 194,
      "outputs": [
        {
          "output_type": "execute_result",
          "data": {
            "text/plain": [
              "Item_Identifier                 0\n",
              "Item_Weight                  1463\n",
              "Item_Fat_Content                0\n",
              "Item_Visibility                 0\n",
              "Item_Type                       0\n",
              "Item_MRP                        0\n",
              "Outlet_Identifier               0\n",
              "Outlet_Establishment_Year       0\n",
              "Outlet_Size                  2410\n",
              "Outlet_Location_Type            0\n",
              "Outlet_Type                     0\n",
              "Item_Outlet_Sales               0\n",
              "dtype: int64"
            ]
          },
          "metadata": {
            "tags": []
          },
          "execution_count": 194
        }
      ]
    },
    {
      "metadata": {
        "id": "uJ1R2llVJCsr",
        "colab_type": "text"
      },
      "cell_type": "markdown",
      "source": [
        "Item weight null values need to be filled by the mean weight of the items of that particular value."
      ]
    },
    {
      "metadata": {
        "id": "a6Qo16-SKyr_",
        "colab_type": "code",
        "colab": {}
      },
      "cell_type": "code",
      "source": [
        "val=data.groupby(['Item_Identifier'])['Item_Weight'].mean()"
      ],
      "execution_count": 0,
      "outputs": []
    },
    {
      "metadata": {
        "id": "tImR6NWvNa1v",
        "colab_type": "code",
        "colab": {}
      },
      "cell_type": "code",
      "source": [
        "data.loc[data['Item_Weight'].isnull(),'Item_Weight']=data.loc[data['Item_Weight'].isnull(),'Item_Identifier'].apply(lambda x:val[x])\n"
      ],
      "execution_count": 0,
      "outputs": []
    },
    {
      "metadata": {
        "id": "8pBCPecvP4s9",
        "colab_type": "code",
        "colab": {
          "base_uri": "https://localhost:8080/",
          "height": 261
        },
        "outputId": "c92c688f-5153-4751-b04b-998880025aeb"
      },
      "cell_type": "code",
      "source": [
        "data[data['Item_Weight'].isnull()]"
      ],
      "execution_count": 197,
      "outputs": [
        {
          "output_type": "execute_result",
          "data": {
            "text/html": [
              "<div>\n",
              "<style scoped>\n",
              "    .dataframe tbody tr th:only-of-type {\n",
              "        vertical-align: middle;\n",
              "    }\n",
              "\n",
              "    .dataframe tbody tr th {\n",
              "        vertical-align: top;\n",
              "    }\n",
              "\n",
              "    .dataframe thead th {\n",
              "        text-align: right;\n",
              "    }\n",
              "</style>\n",
              "<table border=\"1\" class=\"dataframe\">\n",
              "  <thead>\n",
              "    <tr style=\"text-align: right;\">\n",
              "      <th></th>\n",
              "      <th>Item_Identifier</th>\n",
              "      <th>Item_Weight</th>\n",
              "      <th>Item_Fat_Content</th>\n",
              "      <th>Item_Visibility</th>\n",
              "      <th>Item_Type</th>\n",
              "      <th>Item_MRP</th>\n",
              "      <th>Outlet_Identifier</th>\n",
              "      <th>Outlet_Establishment_Year</th>\n",
              "      <th>Outlet_Size</th>\n",
              "      <th>Outlet_Location_Type</th>\n",
              "      <th>Outlet_Type</th>\n",
              "      <th>Item_Outlet_Sales</th>\n",
              "    </tr>\n",
              "  </thead>\n",
              "  <tbody>\n",
              "    <tr>\n",
              "      <th>927</th>\n",
              "      <td>FDN52</td>\n",
              "      <td>NaN</td>\n",
              "      <td>Regular</td>\n",
              "      <td>0.130933</td>\n",
              "      <td>Frozen Foods</td>\n",
              "      <td>86.9198</td>\n",
              "      <td>OUT027</td>\n",
              "      <td>1985</td>\n",
              "      <td>Medium</td>\n",
              "      <td>Tier 3</td>\n",
              "      <td>Supermarket Type3</td>\n",
              "      <td>1569.9564</td>\n",
              "    </tr>\n",
              "    <tr>\n",
              "      <th>1922</th>\n",
              "      <td>FDK57</td>\n",
              "      <td>NaN</td>\n",
              "      <td>Low Fat</td>\n",
              "      <td>0.079904</td>\n",
              "      <td>Snack Foods</td>\n",
              "      <td>120.0440</td>\n",
              "      <td>OUT027</td>\n",
              "      <td>1985</td>\n",
              "      <td>Medium</td>\n",
              "      <td>Tier 3</td>\n",
              "      <td>Supermarket Type3</td>\n",
              "      <td>4434.2280</td>\n",
              "    </tr>\n",
              "    <tr>\n",
              "      <th>4187</th>\n",
              "      <td>FDE52</td>\n",
              "      <td>NaN</td>\n",
              "      <td>Regular</td>\n",
              "      <td>0.029742</td>\n",
              "      <td>Dairy</td>\n",
              "      <td>88.9514</td>\n",
              "      <td>OUT027</td>\n",
              "      <td>1985</td>\n",
              "      <td>Medium</td>\n",
              "      <td>Tier 3</td>\n",
              "      <td>Supermarket Type3</td>\n",
              "      <td>3453.5046</td>\n",
              "    </tr>\n",
              "    <tr>\n",
              "      <th>5022</th>\n",
              "      <td>FDQ60</td>\n",
              "      <td>NaN</td>\n",
              "      <td>Regular</td>\n",
              "      <td>0.191501</td>\n",
              "      <td>Baking Goods</td>\n",
              "      <td>121.2098</td>\n",
              "      <td>OUT019</td>\n",
              "      <td>1985</td>\n",
              "      <td>Small</td>\n",
              "      <td>Tier 1</td>\n",
              "      <td>Grocery Store</td>\n",
              "      <td>120.5098</td>\n",
              "    </tr>\n",
              "  </tbody>\n",
              "</table>\n",
              "</div>"
            ],
            "text/plain": [
              "     Item_Identifier  Item_Weight Item_Fat_Content  Item_Visibility  \\\n",
              "927            FDN52          NaN          Regular         0.130933   \n",
              "1922           FDK57          NaN          Low Fat         0.079904   \n",
              "4187           FDE52          NaN          Regular         0.029742   \n",
              "5022           FDQ60          NaN          Regular         0.191501   \n",
              "\n",
              "         Item_Type  Item_MRP Outlet_Identifier  Outlet_Establishment_Year  \\\n",
              "927   Frozen Foods   86.9198            OUT027                       1985   \n",
              "1922   Snack Foods  120.0440            OUT027                       1985   \n",
              "4187         Dairy   88.9514            OUT027                       1985   \n",
              "5022  Baking Goods  121.2098            OUT019                       1985   \n",
              "\n",
              "     Outlet_Size Outlet_Location_Type        Outlet_Type  Item_Outlet_Sales  \n",
              "927       Medium               Tier 3  Supermarket Type3          1569.9564  \n",
              "1922      Medium               Tier 3  Supermarket Type3          4434.2280  \n",
              "4187      Medium               Tier 3  Supermarket Type3          3453.5046  \n",
              "5022       Small               Tier 1      Grocery Store           120.5098  "
            ]
          },
          "metadata": {
            "tags": []
          },
          "execution_count": 197
        }
      ]
    },
    {
      "metadata": {
        "id": "F3BIzHKSSBx2",
        "colab_type": "code",
        "colab": {}
      },
      "cell_type": "code",
      "source": [
        "data.drop([927,1922,4187,5022],inplace=True)"
      ],
      "execution_count": 0,
      "outputs": []
    },
    {
      "metadata": {
        "id": "h84PVs0SLuWA",
        "colab_type": "code",
        "colab": {
          "base_uri": "https://localhost:8080/",
          "height": 238
        },
        "outputId": "b044a2a3-77df-430a-b100-dcccb3d7fb7a"
      },
      "cell_type": "code",
      "source": [
        "data.isnull().sum()"
      ],
      "execution_count": 199,
      "outputs": [
        {
          "output_type": "execute_result",
          "data": {
            "text/plain": [
              "Item_Identifier                 0\n",
              "Item_Weight                     0\n",
              "Item_Fat_Content                0\n",
              "Item_Visibility                 0\n",
              "Item_Type                       0\n",
              "Item_MRP                        0\n",
              "Outlet_Identifier               0\n",
              "Outlet_Establishment_Year       0\n",
              "Outlet_Size                  2410\n",
              "Outlet_Location_Type            0\n",
              "Outlet_Type                     0\n",
              "Item_Outlet_Sales               0\n",
              "dtype: int64"
            ]
          },
          "metadata": {
            "tags": []
          },
          "execution_count": 199
        }
      ]
    },
    {
      "metadata": {
        "id": "GN4A1PqUXRfd",
        "colab_type": "text"
      },
      "cell_type": "markdown",
      "source": [
        "To fill the outlet size null values we can take help of item identifier. We will compute mode outlet size of particular item identifier and store it into the null place"
      ]
    },
    {
      "metadata": {
        "id": "GJLsLGi7Xzdw",
        "colab_type": "code",
        "colab": {}
      },
      "cell_type": "code",
      "source": [
        "val2 = data.pivot_table(values='Outlet_Size', index='Item_Identifier',aggfunc=statistics.mode)"
      ],
      "execution_count": 0,
      "outputs": []
    },
    {
      "metadata": {
        "id": "PYTr-TAvcQEH",
        "colab_type": "code",
        "colab": {
          "base_uri": "https://localhost:8080/",
          "height": 34
        },
        "outputId": "300c9bf7-da0a-4792-fe50-a11d0a238361"
      },
      "cell_type": "code",
      "source": [
        "len(val2)"
      ],
      "execution_count": 201,
      "outputs": [
        {
          "output_type": "execute_result",
          "data": {
            "text/plain": [
              "0"
            ]
          },
          "metadata": {
            "tags": []
          },
          "execution_count": 201
        }
      ]
    },
    {
      "metadata": {
        "id": "-kcA0a21_32T",
        "colab_type": "text"
      },
      "cell_type": "markdown",
      "source": [
        "# EDA"
      ]
    },
    {
      "metadata": {
        "id": "j7_Pph2__9G6",
        "colab_type": "text"
      },
      "cell_type": "markdown",
      "source": [
        "## Univariate analysis"
      ]
    },
    {
      "metadata": {
        "id": "CfSGdvCzFr0N",
        "colab_type": "text"
      },
      "cell_type": "markdown",
      "source": [
        "Item weigth"
      ]
    },
    {
      "metadata": {
        "id": "vQjaqvatGx8F",
        "colab_type": "code",
        "colab": {
          "base_uri": "https://localhost:8080/",
          "height": 677
        },
        "outputId": "a3808e45-78cd-467b-cf95-2eb6094ac5c9"
      },
      "cell_type": "code",
      "source": [
        "# sns.set(style=\"whitegrid\", color_codes=True)\n",
        "# sns.distplot(data['Item_Weight'],bins=40)\n",
        "plt.hist(data['Item_Weight'])"
      ],
      "execution_count": 202,
      "outputs": [
        {
          "output_type": "execute_result",
          "data": {
            "text/plain": [
              "(array([ 590., 1043., 1034.,  790.,  941.,  758.,  918.,  899.,  826.,\n",
              "         720.]),\n",
              " array([ 4.555 ,  6.2345,  7.914 ,  9.5935, 11.273 , 12.9525, 14.632 ,\n",
              "        16.3115, 17.991 , 19.6705, 21.35  ]),\n",
              " <a list of 10 Patch objects>)"
            ]
          },
          "metadata": {
            "tags": []
          },
          "execution_count": 202
        },
        {
          "output_type": "display_data",
          "data": {
            "image/png": "[encoded data removed]",
            "text/plain": [
              "<matplotlib.figure.Figure at 0x7faa8cdc6d30>"
            ]
          },
          "metadata": {
            "tags": []
          }
        }
      ]
    },
    {
      "metadata": {
        "id": "skfCWWQaISW0",
        "colab_type": "code",
        "colab": {}
      },
      "cell_type": "code",
      "source": [
        ""
      ],
      "execution_count": 0,
      "outputs": []
    }
  ]
}